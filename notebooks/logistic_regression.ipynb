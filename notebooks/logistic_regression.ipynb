{
 "cells": [
  {
   "cell_type": "code",
   "execution_count": 1,
   "id": "6dbde1dc-c022-48d2-be15-86b7e7a75fad",
   "metadata": {},
   "outputs": [],
   "source": [
    "%matplotlib inline\n",
    "import matplotlib.pyplot as plt  # type: ignore\n",
    "import numpy as np\n",
    "import numpy.typing as npt\n",
    "\n",
    "from data.gaussian_classes import gaussian_class_data\n",
    "from logistic_regression import PolynomialBasisLogisticRegression"
   ]
  },
  {
   "cell_type": "code",
   "execution_count": 2,
   "id": "242db9a6-d885-4b2b-842b-980ab9ba896b",
   "metadata": {},
   "outputs": [],
   "source": [
    "means = [\n",
    "    np.array([0.0, 0.0]),\n",
    "    np.array([3.0, 3.0]),\n",
    "    np.array([-3, 3]),\n",
    "]\n",
    "covariances = [\n",
    "    np.array(\n",
    "        [\n",
    "            [1.0, 0.0],\n",
    "            [0.0, 1.0],\n",
    "        ]\n",
    "    ),\n",
    "    np.array(\n",
    "        [\n",
    "            [2.0, 0.0],\n",
    "            [0.0, 2.0],\n",
    "        ]\n",
    "    ),\n",
    "    np.array(\n",
    "        [\n",
    "            [1.0, 0.0],\n",
    "            [0.0, 1.0],\n",
    "        ]\n",
    "    ),\n",
    "]\n",
    "data = gaussian_class_data(means, covariances, n_train=30, n_test=30)\n",
    "class_1 = data.x_train[data.y_train[:, 0] == 1.0]\n",
    "class_2 = data.x_train[data.y_train[:, 1] == 1.0]\n",
    "class_3 = data.x_train[data.y_train[:, 2] == 1.0]"
   ]
  },
  {
   "cell_type": "code",
   "execution_count": 3,
   "id": "2cdc2b4e-2309-4137-bb72-05da8b4b2f19",
   "metadata": {},
   "outputs": [
    {
     "data": {
      "text/plain": [
       "<matplotlib.collections.PathCollection at 0x12a8387c0>"
      ]
     },
     "execution_count": 3,
     "metadata": {},
     "output_type": "execute_result"
    },
    {
     "data": {
      "image/png": "[encoded data removed]",
      "text/plain": [
       "<Figure size 432x288 with 1 Axes>"
      ]
     },
     "metadata": {
      "needs_background": "light"
     },
     "output_type": "display_data"
    }
   ],
   "source": [
    "plt.scatter(class_1[:, 0], class_1[:, 1], marker=\"^\")\n",
    "plt.scatter(class_2[:, 0], class_2[:, 1], marker=\"o\")\n",
    "plt.scatter(class_3[:, 0], class_3[:, 1], marker=\"x\")"
   ]
  },
  {
   "cell_type": "code",
   "execution_count": 4,
   "id": "989cc55b-fa4d-44c4-89f5-75a3b4c60b9a",
   "metadata": {
    "tags": []
   },
   "outputs": [
    {
     "data": {
      "image/png": "[encoded data removed]",
      "text/plain": [
       "<Figure size 432x288 with 1 Axes>"
      ]
     },
     "metadata": {
      "needs_background": "light"
     },
     "output_type": "display_data"
    }
   ],
   "source": [
    "model = PolynomialBasisLogisticRegression(\n",
    "    m_degrees=2, k_classes=len(data.y_train[1, :])\n",
    ")\n",
    "model.fit(data.x_train, data.y_train)\n",
    "\n",
    "minx = data.x_train[:, 0].min() - 1\n",
    "maxx = data.x_train[:, 0].max() + 1\n",
    "miny = data.x_train[:, 1].min() - 1\n",
    "maxy = data.x_train[:, 1].max() + 1\n",
    "xrange = np.arange(minx, maxx, 0.1)\n",
    "yrange = np.arange(miny, maxy, 0.1)\n",
    "xx, yy = np.meshgrid(xrange, yrange)  # type: ignore\n",
    "xx_flat = xx.flatten()\n",
    "yy_flat = yy.flatten()\n",
    "xx_flat = xx_flat.reshape((len(xx_flat), 1))\n",
    "yy_flat = yy_flat.reshape((len(yy_flat), 1))\n",
    "grid = np.hstack((xx_flat, yy_flat))\n",
    "predictions = model.predict(grid)\n",
    "zz = predictions.reshape(xx.shape)\n",
    "plt.contourf(xx, yy, zz, cmap=\"Paired\")\n",
    "for c in range(3):\n",
    "    row_ix = np.where(data.y_train[:, c] == 1.0)\n",
    "    plt.scatter(data.x_train[row_ix, 0], data.x_train[row_ix, 1], cmap=\"Paired\")"
   ]
  }
 ],
 "metadata": {
  "kernelspec": {
   "display_name": "Python 3 (ipykernel)",
   "language": "python",
   "name": "python3"
  },
  "language_info": {
   "codemirror_mode": {
    "name": "ipython",
    "version": 3
   },
   "file_extension": ".py",
   "mimetype": "text/x-python",
   "name": "python",
   "nbconvert_exporter": "python",
   "pygments_lexer": "ipython3",
   "version": "3.9.7"
  }
 },
 "nbformat": 4,
 "nbformat_minor": 5
}
