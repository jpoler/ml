{
 "cells": [
  {
   "cell_type": "code",
   "execution_count": 4,
   "id": "1e82b157-2542-47d5-9f45-9ad7b7abc7bc",
   "metadata": {},
   "outputs": [],
   "source": [
    "%matplotlib inline\n",
    "import matplotlib.pyplot as plt  # type: ignore\n",
    "import numpy as np\n",
    "import numpy.typing as npt\n",
    "\n",
    "from data.sin import sin_curve, sin_data\n",
    "from grid.hyperparameters import (ParameterSpace, expand_grid,\n",
    "                                  full_data_slices, increasing_subslices,\n",
    "                                  mean_squared_error_metric, plot_metrics,\n",
    "                                  plot_predictions)\n",
    "from linear_regression import (GaussianBasisLeastSquaresRegression,\n",
    "                               PolynomialBasisBayesianLinearRegression,\n",
    "                               PolynomialBasisLeastSquaresRegression)"
   ]
  },
  {
   "cell_type": "code",
   "execution_count": 5,
   "id": "334da9b2-16fc-4036-884c-eed1f69e37fe",
   "metadata": {},
   "outputs": [],
   "source": [
    "s_curve = sin_curve()\n",
    "s_data = sin_data(n_train=30, n_test=30, noise_stddev=0.3)"
   ]
  },
  {
   "cell_type": "code",
   "execution_count": 6,
   "id": "4cda1023-84a9-4bb9-a999-14760ab5a9c5",
   "metadata": {},
   "outputs": [
    {
     "ename": "LinAlgError",
     "evalue": "Singular matrix",
     "output_type": "error",
     "traceback": [
      "\u001b[0;31m---------------------------------------------------------------------------\u001b[0m",
      "\u001b[0;31mLinAlgError\u001b[0m                               Traceback (most recent call last)",
      "Input \u001b[0;32mIn [6]\u001b[0m, in \u001b[0;36m<module>\u001b[0;34m\u001b[0m\n\u001b[1;32m      1\u001b[0m parameter_spaces \u001b[38;5;241m=\u001b[39m [\n\u001b[1;32m      2\u001b[0m     ParameterSpace(\n\u001b[1;32m      3\u001b[0m         model\u001b[38;5;241m=\u001b[39mPolynomialBasisLeastSquaresRegression,\n\u001b[0;32m   (...)\u001b[0m\n\u001b[1;32m     26\u001b[0m     ),\n\u001b[1;32m     27\u001b[0m ]\n\u001b[0;32m---> 29\u001b[0m grid \u001b[38;5;241m=\u001b[39m \u001b[43mexpand_grid\u001b[49m\u001b[43m(\u001b[49m\u001b[43mparameter_spaces\u001b[49m\u001b[43m)\u001b[49m\n",
      "File \u001b[0;32m~/src/ml/src/grid/hyperparameters.py:97\u001b[0m, in \u001b[0;36mexpand_grid\u001b[0;34m(parameter_spaces)\u001b[0m\n\u001b[1;32m     95\u001b[0m \u001b[38;5;28;01mdef\u001b[39;00m \u001b[38;5;21mexpand_grid\u001b[39m(parameter_spaces: Iterable[ParameterSpace[M]]) \u001b[38;5;241m-\u001b[39m\u001b[38;5;241m>\u001b[39m EvaluatedCellGridList[M]:\n\u001b[1;32m     96\u001b[0m     gen \u001b[38;5;241m=\u001b[39m grid_generator(parameter_spaces)\n\u001b[0;32m---> 97\u001b[0m     \u001b[38;5;28;01mreturn\u001b[39;00m \u001b[38;5;28;43mlist\u001b[39;49m\u001b[43m(\u001b[49m\u001b[38;5;28;43mlist\u001b[39;49m\u001b[43m(\u001b[49m\u001b[43mrow\u001b[49m\u001b[43m)\u001b[49m\u001b[43m \u001b[49m\u001b[38;5;28;43;01mfor\u001b[39;49;00m\u001b[43m \u001b[49m\u001b[43mrow\u001b[49m\u001b[43m \u001b[49m\u001b[38;5;129;43;01min\u001b[39;49;00m\u001b[43m \u001b[49m\u001b[43mgrid_map\u001b[49m\u001b[43m(\u001b[49m\u001b[43mgen\u001b[49m\u001b[43m)\u001b[49m\u001b[43m)\u001b[49m\n",
      "File \u001b[0;32m~/src/ml/src/grid/hyperparameters.py:97\u001b[0m, in \u001b[0;36m<genexpr>\u001b[0;34m(.0)\u001b[0m\n\u001b[1;32m     95\u001b[0m \u001b[38;5;28;01mdef\u001b[39;00m \u001b[38;5;21mexpand_grid\u001b[39m(parameter_spaces: Iterable[ParameterSpace[M]]) \u001b[38;5;241m-\u001b[39m\u001b[38;5;241m>\u001b[39m EvaluatedCellGridList[M]:\n\u001b[1;32m     96\u001b[0m     gen \u001b[38;5;241m=\u001b[39m grid_generator(parameter_spaces)\n\u001b[0;32m---> 97\u001b[0m     \u001b[38;5;28;01mreturn\u001b[39;00m \u001b[38;5;28mlist\u001b[39m(\u001b[38;5;28mlist\u001b[39m(row) \u001b[38;5;28;01mfor\u001b[39;00m row \u001b[38;5;129;01min\u001b[39;00m grid_map(gen))\n",
      "File \u001b[0;32m~/src/ml/src/grid/hyperparameters.py:93\u001b[0m, in \u001b[0;36mgrid_map\u001b[0;34m(grid)\u001b[0m\n\u001b[1;32m     91\u001b[0m \u001b[38;5;28;01mdef\u001b[39;00m \u001b[38;5;21mgrid_map\u001b[39m(grid: CellGridIterable[M]) \u001b[38;5;241m-\u001b[39m\u001b[38;5;241m>\u001b[39m EvaluatedCellGridIterable[M]:\n\u001b[1;32m     92\u001b[0m     \u001b[38;5;28;01mfor\u001b[39;00m row \u001b[38;5;129;01min\u001b[39;00m grid:\n\u001b[0;32m---> 93\u001b[0m         \u001b[38;5;28;01myield\u001b[39;00m [fit_and_predict(cell) \u001b[38;5;28;01mfor\u001b[39;00m cell \u001b[38;5;129;01min\u001b[39;00m row]\n",
      "File \u001b[0;32m~/src/ml/src/grid/hyperparameters.py:93\u001b[0m, in \u001b[0;36m<listcomp>\u001b[0;34m(.0)\u001b[0m\n\u001b[1;32m     91\u001b[0m \u001b[38;5;28;01mdef\u001b[39;00m \u001b[38;5;21mgrid_map\u001b[39m(grid: CellGridIterable[M]) \u001b[38;5;241m-\u001b[39m\u001b[38;5;241m>\u001b[39m EvaluatedCellGridIterable[M]:\n\u001b[1;32m     92\u001b[0m     \u001b[38;5;28;01mfor\u001b[39;00m row \u001b[38;5;129;01min\u001b[39;00m grid:\n\u001b[0;32m---> 93\u001b[0m         \u001b[38;5;28;01myield\u001b[39;00m [\u001b[43mfit_and_predict\u001b[49m\u001b[43m(\u001b[49m\u001b[43mcell\u001b[49m\u001b[43m)\u001b[49m \u001b[38;5;28;01mfor\u001b[39;00m cell \u001b[38;5;129;01min\u001b[39;00m row]\n",
      "File \u001b[0;32m~/src/ml/src/grid/hyperparameters.py:110\u001b[0m, in \u001b[0;36mfit_and_predict\u001b[0;34m(cell)\u001b[0m\n\u001b[1;32m    108\u001b[0m \u001b[38;5;28;01mdef\u001b[39;00m \u001b[38;5;21mfit_and_predict\u001b[39m(cell: Cell[M]) \u001b[38;5;241m-\u001b[39m\u001b[38;5;241m>\u001b[39m EvaluatedCell[M]:\n\u001b[1;32m    109\u001b[0m     inst \u001b[38;5;241m=\u001b[39m cell\u001b[38;5;241m.\u001b[39mparameter_space\u001b[38;5;241m.\u001b[39mmodel(\u001b[38;5;241m*\u001b[39m\u001b[38;5;241m*\u001b[39mcell\u001b[38;5;241m.\u001b[39mparameters)\n\u001b[0;32m--> 110\u001b[0m     \u001b[43minst\u001b[49m\u001b[38;5;241;43m.\u001b[39;49m\u001b[43mfit\u001b[49m\u001b[43m(\u001b[49m\u001b[43mcell\u001b[49m\u001b[38;5;241;43m.\u001b[39;49m\u001b[43mdata\u001b[49m\u001b[38;5;241;43m.\u001b[39;49m\u001b[43mx_train\u001b[49m\u001b[43m,\u001b[49m\u001b[43m \u001b[49m\u001b[43mcell\u001b[49m\u001b[38;5;241;43m.\u001b[39;49m\u001b[43mdata\u001b[49m\u001b[38;5;241;43m.\u001b[39;49m\u001b[43my_train\u001b[49m\u001b[43m)\u001b[49m\n\u001b[1;32m    111\u001b[0m     predictions \u001b[38;5;241m=\u001b[39m inst\u001b[38;5;241m.\u001b[39mpredict(cell\u001b[38;5;241m.\u001b[39mdata\u001b[38;5;241m.\u001b[39mx_test)\n\u001b[1;32m    112\u001b[0m     model \u001b[38;5;241m=\u001b[39m inst\n",
      "File \u001b[0;32m~/src/ml/src/linear_regression.py:22\u001b[0m, in \u001b[0;36mLeastSquaresRegression.fit\u001b[0;34m(self, X, y)\u001b[0m\n\u001b[1;32m     20\u001b[0m \u001b[38;5;28;01melse\u001b[39;00m:\n\u001b[1;32m     21\u001b[0m     inner \u001b[38;5;241m=\u001b[39m phi\u001b[38;5;241m.\u001b[39mT \u001b[38;5;241m@\u001b[39m phi\n\u001b[0;32m---> 22\u001b[0m inv \u001b[38;5;241m=\u001b[39m \u001b[43mnp\u001b[49m\u001b[38;5;241;43m.\u001b[39;49m\u001b[43mlinalg\u001b[49m\u001b[38;5;241;43m.\u001b[39;49m\u001b[43minv\u001b[49m\u001b[43m(\u001b[49m\u001b[43minner\u001b[49m\u001b[43m)\u001b[49m \u001b[38;5;66;03m# type: ignore\u001b[39;00m\n\u001b[1;32m     23\u001b[0m \u001b[38;5;28mself\u001b[39m\u001b[38;5;241m.\u001b[39mW: npt\u001b[38;5;241m.\u001b[39mNDArray[np\u001b[38;5;241m.\u001b[39mfloat64] \u001b[38;5;241m=\u001b[39m inv \u001b[38;5;241m@\u001b[39m phi\u001b[38;5;241m.\u001b[39mT \u001b[38;5;241m@\u001b[39m y\n",
      "File \u001b[0;32m<__array_function__ internals>:5\u001b[0m, in \u001b[0;36minv\u001b[0;34m(*args, **kwargs)\u001b[0m\n",
      "File \u001b[0;32m/usr/local/lib/python3.9/site-packages/numpy/linalg/linalg.py:545\u001b[0m, in \u001b[0;36minv\u001b[0;34m(a)\u001b[0m\n\u001b[1;32m    543\u001b[0m signature \u001b[38;5;241m=\u001b[39m \u001b[38;5;124m'\u001b[39m\u001b[38;5;124mD->D\u001b[39m\u001b[38;5;124m'\u001b[39m \u001b[38;5;28;01mif\u001b[39;00m isComplexType(t) \u001b[38;5;28;01melse\u001b[39;00m \u001b[38;5;124m'\u001b[39m\u001b[38;5;124md->d\u001b[39m\u001b[38;5;124m'\u001b[39m\n\u001b[1;32m    544\u001b[0m extobj \u001b[38;5;241m=\u001b[39m get_linalg_error_extobj(_raise_linalgerror_singular)\n\u001b[0;32m--> 545\u001b[0m ainv \u001b[38;5;241m=\u001b[39m \u001b[43m_umath_linalg\u001b[49m\u001b[38;5;241;43m.\u001b[39;49m\u001b[43minv\u001b[49m\u001b[43m(\u001b[49m\u001b[43ma\u001b[49m\u001b[43m,\u001b[49m\u001b[43m \u001b[49m\u001b[43msignature\u001b[49m\u001b[38;5;241;43m=\u001b[39;49m\u001b[43msignature\u001b[49m\u001b[43m,\u001b[49m\u001b[43m \u001b[49m\u001b[43mextobj\u001b[49m\u001b[38;5;241;43m=\u001b[39;49m\u001b[43mextobj\u001b[49m\u001b[43m)\u001b[49m\n\u001b[1;32m    546\u001b[0m \u001b[38;5;28;01mreturn\u001b[39;00m wrap(ainv\u001b[38;5;241m.\u001b[39mastype(result_t, copy\u001b[38;5;241m=\u001b[39m\u001b[38;5;28;01mFalse\u001b[39;00m))\n",
      "File \u001b[0;32m/usr/local/lib/python3.9/site-packages/numpy/linalg/linalg.py:88\u001b[0m, in \u001b[0;36m_raise_linalgerror_singular\u001b[0;34m(err, flag)\u001b[0m\n\u001b[1;32m     87\u001b[0m \u001b[38;5;28;01mdef\u001b[39;00m \u001b[38;5;21m_raise_linalgerror_singular\u001b[39m(err, flag):\n\u001b[0;32m---> 88\u001b[0m     \u001b[38;5;28;01mraise\u001b[39;00m LinAlgError(\u001b[38;5;124m\"\u001b[39m\u001b[38;5;124mSingular matrix\u001b[39m\u001b[38;5;124m\"\u001b[39m)\n",
      "\u001b[0;31mLinAlgError\u001b[0m: Singular matrix"
     ]
    }
   ],
   "source": [
    "parameter_spaces = [\n",
    "    ParameterSpace(\n",
    "        model=PolynomialBasisLeastSquaresRegression,\n",
    "        keyword=\"regularization_coefficient\",\n",
    "        base_parameters={\"m_degrees\": 10},\n",
    "        space=np.linspace(0.0, 100.0, 10),\n",
    "        base_data=s_data,\n",
    "        data_slices=full_data_slices(len(s_data.x_train)),\n",
    "    ),\n",
    "    ParameterSpace(\n",
    "        model=PolynomialBasisLeastSquaresRegression,\n",
    "        keyword=\"m_degrees\",\n",
    "        base_parameters={},\n",
    "        space=[i for i in range(10)],\n",
    "        base_data=s_data,\n",
    "        data_slices=full_data_slices(len(s_data.x_train)),\n",
    "    ),\n",
    "    ParameterSpace(\n",
    "        model=PolynomialBasisLeastSquaresRegression,\n",
    "        # TODO fix to allow not providing a keyword (in the case that only the data varies)\n",
    "        keyword=\"m_degrees\",\n",
    "        base_parameters={\"m_degrees\": 4},\n",
    "        space=[4 for _ in range(10)],\n",
    "        base_data=s_data,\n",
    "        data_slices=increasing_subslices(0, len(s_data.x_train), 10),\n",
    "    ),\n",
    "]\n",
    "\n",
    "grid = expand_grid(parameter_spaces)"
   ]
  },
  {
   "cell_type": "code",
   "execution_count": null,
   "id": "821f3a1b-f3ee-49fe-872d-dcb35b8aaf64",
   "metadata": {},
   "outputs": [],
   "source": [
    "plot_predictions(plt, grid)"
   ]
  },
  {
   "cell_type": "code",
   "execution_count": null,
   "id": "d31c438a-0f52-40c7-bf17-4174db5a1de6",
   "metadata": {},
   "outputs": [],
   "source": [
    "plot_metrics(plt, grid, mean_squared_error_metric)"
   ]
  },
  {
   "cell_type": "code",
   "execution_count": null,
   "id": "59b69389-8eb3-40f4-813b-41dc0172341d",
   "metadata": {},
   "outputs": [],
   "source": [
    "ps2 = [\n",
    "    ParameterSpace(\n",
    "        model=GaussianBasisLeastSquaresRegression,\n",
    "        keyword=\"regularization_coefficient\",\n",
    "        base_parameters={\"low\": 0.0, \"high\": 2 * np.pi, \"num\": 10, \"stddev\": 1.0},\n",
    "        space=np.linspace(0.0, 4.0, 10),\n",
    "        base_data=s_data,\n",
    "        data_slices=full_data_slices(len(s_data.x_train)),\n",
    "    ),\n",
    "    ParameterSpace(\n",
    "        model=GaussianBasisLeastSquaresRegression,\n",
    "        keyword=\"stddev\",\n",
    "        base_parameters={\"low\": 0.0, \"high\": 2 * np.pi, \"num\": 10},\n",
    "        space=np.linspace(0.1, 2.0, 10),\n",
    "        base_data=s_data,\n",
    "        data_slices=full_data_slices(len(s_data.x_train)),\n",
    "    ),\n",
    "    ParameterSpace(\n",
    "        model=GaussianBasisLeastSquaresRegression,\n",
    "        keyword=\"num\",\n",
    "        base_parameters={\"low\": 0.0, \"high\": 2 * np.pi, \"stddev\": 1.0},\n",
    "        space=[i for i in range(1, 11)],\n",
    "        base_data=s_data,\n",
    "        data_slices=full_data_slices(len(s_data.x_train)),\n",
    "    ),\n",
    "]\n",
    "\n",
    "grid2 = expand_grid(ps2)"
   ]
  },
  {
   "cell_type": "code",
   "execution_count": null,
   "id": "8606c95f-41f4-435b-8ea5-a5cc8776098a",
   "metadata": {},
   "outputs": [],
   "source": [
    "plot_predictions(plt, grid2)"
   ]
  },
  {
   "cell_type": "code",
   "execution_count": null,
   "id": "6e673fc8-c019-4419-b1bb-50069a510ac0",
   "metadata": {},
   "outputs": [],
   "source": [
    "plot_metrics(plt, grid2, mean_squared_error_metric)"
   ]
  },
  {
   "cell_type": "code",
   "execution_count": null,
   "id": "ed75ebd8-ddcf-4bec-8a9a-66b4955bf66c",
   "metadata": {},
   "outputs": [],
   "source": [
    "%%capture\n",
    "\n",
    "parameter_spaces = [\n",
    "    ParameterSpace(\n",
    "        model=PolynomialBasisBayesianLinearRegression,\n",
    "        keyword=\"alpha\",\n",
    "        base_parameters={\"m_degrees\": 10},\n",
    "        space=np.linspace(1.0, 100.0, 10),\n",
    "        base_data=s_data,\n",
    "        data_slices=full_data_slices(len(s_data.x_train)),\n",
    "    ),\n",
    "    ParameterSpace(\n",
    "        model=PolynomialBasisBayesianLinearRegression,\n",
    "        keyword=\"beta\",\n",
    "        base_parameters={\"m_degrees\": 10},\n",
    "        space=np.linspace(1.0, 100.0, 10),\n",
    "        base_data=s_data,\n",
    "        data_slices=full_data_slices(len(s_data.x_train)),\n",
    "    ),\n",
    "    ParameterSpace(\n",
    "        model=PolynomialBasisBayesianLinearRegression,\n",
    "        # TODO fix to allow not providing a keyword (in the case that only the data varies)\n",
    "        keyword=\"max_evidence_iterations\",\n",
    "        base_parameters={\"m_degrees\": 10},\n",
    "        space=[100 for _ in range(10)],\n",
    "        base_data=s_data,\n",
    "        data_slices=increasing_subslices(0, 30, 10),\n",
    "    ),\n",
    "]\n",
    "\n",
    "grid = expand_grid(parameter_spaces)"
   ]
  },
  {
   "cell_type": "code",
   "execution_count": null,
   "id": "470aacad-f2e6-4bde-9c65-2f61c293e0ca",
   "metadata": {},
   "outputs": [],
   "source": [
    "plot_predictions(plt, grid)"
   ]
  },
  {
   "cell_type": "code",
   "execution_count": null,
   "id": "565820cd-b92e-48e4-82d7-686ad2645d46",
   "metadata": {},
   "outputs": [],
   "source": [
    "plot_metrics(plt, grid, mean_squared_error_metric)"
   ]
  }
 ],
 "metadata": {
  "kernelspec": {
   "display_name": "Python 3 (ipykernel)",
   "language": "python",
   "name": "python3"
  },
  "language_info": {
   "codemirror_mode": {
    "name": "ipython",
    "version": 3
   },
   "file_extension": ".py",
   "mimetype": "text/x-python",
   "name": "python",
   "nbconvert_exporter": "python",
   "pygments_lexer": "ipython3",
   "version": "3.9.7"
  }
 },
 "nbformat": 4,
 "nbformat_minor": 5
}
