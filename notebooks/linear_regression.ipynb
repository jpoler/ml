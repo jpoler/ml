{
 "cells": [
  {
   "cell_type": "code",
   "execution_count": 1,
   "id": "1e82b157-2542-47d5-9f45-9ad7b7abc7bc",
   "metadata": {},
   "outputs": [
    {
     "ename": "TypeError",
     "evalue": "'type' object is not subscriptable",
     "output_type": "error",
     "traceback": [
      "\u001b[0;31m---------------------------------------------------------------------------\u001b[0m",
      "\u001b[0;31mTypeError\u001b[0m                                 Traceback (most recent call last)",
      "Input \u001b[0;32mIn [1]\u001b[0m, in \u001b[0;36m<module>\u001b[0;34m\u001b[0m\n\u001b[1;32m      3\u001b[0m \u001b[38;5;28;01mimport\u001b[39;00m \u001b[38;5;21;01mnumpy\u001b[39;00m \u001b[38;5;28;01mas\u001b[39;00m \u001b[38;5;21;01mnp\u001b[39;00m\n\u001b[1;32m      4\u001b[0m \u001b[38;5;28;01mimport\u001b[39;00m \u001b[38;5;21;01mnumpy\u001b[39;00m\u001b[38;5;21;01m.\u001b[39;00m\u001b[38;5;21;01mtyping\u001b[39;00m \u001b[38;5;28;01mas\u001b[39;00m \u001b[38;5;21;01mnpt\u001b[39;00m\n\u001b[0;32m----> 6\u001b[0m \u001b[38;5;28;01mfrom\u001b[39;00m \u001b[38;5;21;01mdata\u001b[39;00m\u001b[38;5;21;01m.\u001b[39;00m\u001b[38;5;21;01msin\u001b[39;00m \u001b[38;5;28;01mimport\u001b[39;00m sin_curve, sin_data\n\u001b[1;32m      7\u001b[0m \u001b[38;5;28;01mfrom\u001b[39;00m \u001b[38;5;21;01mgrid\u001b[39;00m\u001b[38;5;21;01m.\u001b[39;00m\u001b[38;5;21;01mhyperparameters\u001b[39;00m \u001b[38;5;28;01mimport\u001b[39;00m (ParameterSpace, expand_grid,\n\u001b[1;32m      8\u001b[0m                                   full_data_slices, mean_squared_error_metric,\n\u001b[1;32m      9\u001b[0m                                   plot_metrics, plot_predictions)\n\u001b[1;32m     10\u001b[0m \u001b[38;5;28;01mfrom\u001b[39;00m \u001b[38;5;21;01mlinear_regression\u001b[39;00m \u001b[38;5;28;01mimport\u001b[39;00m (GaussianBasisLeastSquaresRegression,\n\u001b[1;32m     11\u001b[0m                                PolynomialBasisLeastSquaresRegression)\n",
      "File \u001b[0;32m~/src/ml/src/data/sin.py:8\u001b[0m, in \u001b[0;36m<module>\u001b[0;34m\u001b[0m\n\u001b[1;32m      3\u001b[0m \u001b[38;5;28;01mimport\u001b[39;00m \u001b[38;5;21;01mnumpy\u001b[39;00m\u001b[38;5;21;01m.\u001b[39;00m\u001b[38;5;21;01mtyping\u001b[39;00m \u001b[38;5;28;01mas\u001b[39;00m \u001b[38;5;21;01mnpt\u001b[39;00m\n\u001b[1;32m      5\u001b[0m \u001b[38;5;28;01mfrom\u001b[39;00m \u001b[38;5;21;01mdata\u001b[39;00m\u001b[38;5;21;01m.\u001b[39;00m\u001b[38;5;21;01mdata\u001b[39;00m \u001b[38;5;28;01mimport\u001b[39;00m Data\n\u001b[1;32m      7\u001b[0m \u001b[38;5;129m@dataclass\u001b[39m\n\u001b[0;32m----> 8\u001b[0m \u001b[38;5;28;01mclass\u001b[39;00m \u001b[38;5;21;01mSinData\u001b[39;00m(\u001b[43mData\u001b[49m\u001b[43m[\u001b[49m\u001b[43mnpt\u001b[49m\u001b[38;5;241;43m.\u001b[39;49m\u001b[43mNDArray\u001b[49m\u001b[43m[\u001b[49m\u001b[43mnp\u001b[49m\u001b[38;5;241;43m.\u001b[39;49m\u001b[43mfloat64\u001b[49m\u001b[43m]\u001b[49m\u001b[43m]\u001b[49m):\n\u001b[1;32m      9\u001b[0m     \u001b[38;5;28;01mpass\u001b[39;00m\n\u001b[1;32m     11\u001b[0m \u001b[38;5;129m@dataclass\u001b[39m\n\u001b[1;32m     12\u001b[0m \u001b[38;5;28;01mclass\u001b[39;00m \u001b[38;5;21;01mSinCurve\u001b[39;00m:\n",
      "\u001b[0;31mTypeError\u001b[0m: 'type' object is not subscriptable"
     ]
    }
   ],
   "source": [
    "%matplotlib inline\n",
    "import matplotlib.pyplot as plt  # type: ignore\n",
    "import numpy as np\n",
    "import numpy.typing as npt\n",
    "\n",
    "from data.sin import sin_curve, sin_data\n",
    "from grid.hyperparameters import (ParameterSpace, expand_grid,\n",
    "                                  full_data_slices, mean_squared_error_metric,\n",
    "                                  plot_metrics, plot_predictions)\n",
    "from linear_regression import (GaussianBasisLeastSquaresRegression,\n",
    "                               PolynomialBasisLeastSquaresRegression)"
   ]
  },
  {
   "cell_type": "code",
   "execution_count": null,
   "id": "334da9b2-16fc-4036-884c-eed1f69e37fe",
   "metadata": {},
   "outputs": [],
   "source": [
    "s_curve = sin_curve()\n",
    "s_data = sin_data(n_train=200, n_test=100)"
   ]
  },
  {
   "cell_type": "code",
   "execution_count": null,
   "id": "4cda1023-84a9-4bb9-a999-14760ab5a9c5",
   "metadata": {},
   "outputs": [],
   "source": [
    "parameter_spaces = [\n",
    "    ParameterSpace(\n",
    "        model=PolynomialBasisLeastSquaresRegression,\n",
    "        keyword=\"regularization_coefficient\",\n",
    "        base_parameters={\"m_degrees\": 10},\n",
    "        space=np.linspace(0.0, 100.0, 10),\n",
    "        base_data=s_data,\n",
    "        data_slices=full_data_slices(len(s_data.x_train)),\n",
    "    ),\n",
    "    ParameterSpace(\n",
    "        model=PolynomialBasisLeastSquaresRegression,\n",
    "        keyword=\"m_degrees\",\n",
    "        base_parameters={},\n",
    "        space=[i for i in range(10)],\n",
    "        base_data=s_data,\n",
    "        data_slices=full_data_slices(len(s_data.x_train)),\n",
    "    ),\n",
    "]\n",
    "\n",
    "grid = expand_grid(parameter_spaces)"
   ]
  },
  {
   "cell_type": "code",
   "execution_count": null,
   "id": "821f3a1b-f3ee-49fe-872d-dcb35b8aaf64",
   "metadata": {},
   "outputs": [],
   "source": [
    "plot_predictions(plt, grid)"
   ]
  },
  {
   "cell_type": "code",
   "execution_count": null,
   "id": "d31c438a-0f52-40c7-bf17-4174db5a1de6",
   "metadata": {},
   "outputs": [],
   "source": [
    "plot_metrics(plt, grid, mean_squared_error_metric)"
   ]
  },
  {
   "cell_type": "code",
   "execution_count": null,
   "id": "59b69389-8eb3-40f4-813b-41dc0172341d",
   "metadata": {},
   "outputs": [],
   "source": [
    "parameter_spaces = [\n",
    "    ParameterSpace(\n",
    "        model=GaussianBasisLeastSquaresRegression,\n",
    "        keyword=\"regularization_coefficient\",\n",
    "        base_parameters={\"low\": 0.0, \"high\": 2 * np.pi, \"num\": 10, \"stddev\": 1.0},\n",
    "        space=np.linspace(0.0, 4.0, 10),\n",
    "        base_data=s_data,\n",
    "        data_slices=full_data_slices(len(s_data.x_train)),\n",
    "    ),\n",
    "    ParameterSpace(\n",
    "        model=GaussianBasisLeastSquaresRegression,\n",
    "        keyword=\"stddev\",\n",
    "        base_parameters={\"low\": 0.0, \"high\": 2 * np.pi, \"num\": 10},\n",
    "        space=np.linspace(0.1, 2.0, 10),\n",
    "        base_data=s_data,\n",
    "        data_slices=full_data_slices(len(s_data.x_train)),\n",
    "    ),\n",
    "    ParameterSpace(\n",
    "        model=GaussianBasisLeastSquaresRegression,\n",
    "        keyword=\"num\",\n",
    "        base_parameters={\"low\": 0.0, \"high\": 2 * np.pi, \"stddev\": 1.0},\n",
    "        space=[i for i in range(1, 11)],\n",
    "        base_data=s_data,\n",
    "        data_slices=full_data_slices(len(s_data.x_train)),\n",
    "    ),\n",
    "]\n",
    "\n",
    "grid = expand_grid(parameter_spaces)"
   ]
  },
  {
   "cell_type": "code",
   "execution_count": null,
   "id": "8606c95f-41f4-435b-8ea5-a5cc8776098a",
   "metadata": {},
   "outputs": [],
   "source": [
    "plot_predictions(plt, grid)"
   ]
  },
  {
   "cell_type": "code",
   "execution_count": null,
   "id": "6e673fc8-c019-4419-b1bb-50069a510ac0",
   "metadata": {},
   "outputs": [],
   "source": [
    "plot_metrics(plt, grid, mean_squared_error_metric)"
   ]
  }
 ],
 "metadata": {
  "kernelspec": {
   "display_name": "Python 3 (ipykernel)",
   "language": "python",
   "name": "python3"
  },
  "language_info": {
   "codemirror_mode": {
    "name": "ipython",
    "version": 3
   },
   "file_extension": ".py",
   "mimetype": "text/x-python",
   "name": "python",
   "nbconvert_exporter": "python",
   "pygments_lexer": "ipython3",
   "version": "3.9.7"
  }
 },
 "nbformat": 4,
 "nbformat_minor": 5
}
