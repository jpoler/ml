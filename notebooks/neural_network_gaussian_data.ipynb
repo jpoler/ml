{
 "cells": [
  {
   "cell_type": "code",
   "execution_count": 1,
   "id": "6dbde1dc-c022-48d2-be15-86b7e7a75fad",
   "metadata": {},
   "outputs": [],
   "source": [
    "%matplotlib inline\n",
    "import matplotlib.pyplot as plt  # type: ignore\n",
    "import numpy as np\n",
    "import numpy.typing as npt\n",
    "\n",
    "from data.gaussian_classes import gaussian_class_data\n",
    "from neural_network import NeuralNetwork\n",
    "\n",
    "# np.set_printoptions(threshold=sys.maxsize)"
   ]
  },
  {
   "cell_type": "code",
   "execution_count": 2,
   "id": "242db9a6-d885-4b2b-842b-980ab9ba896b",
   "metadata": {},
   "outputs": [],
   "source": [
    "means = [\n",
    "    np.array([0.0, 0.0]),\n",
    "    np.array([3.0, 3.0]),\n",
    "    np.array([-3, 3]),\n",
    "]\n",
    "covariances = [\n",
    "    np.array(\n",
    "        [\n",
    "            [1.0, 0.0],\n",
    "            [0.0, 1.0],\n",
    "        ]\n",
    "    ),\n",
    "    np.array(\n",
    "        [\n",
    "            [2.0, 0.0],\n",
    "            [0.0, 2.0],\n",
    "        ]\n",
    "    ),\n",
    "    np.array(\n",
    "        [\n",
    "            [1.0, 0.0],\n",
    "            [0.0, 1.0],\n",
    "        ]\n",
    "    ),\n",
    "]\n",
    "data = gaussian_class_data(means, covariances, n_train=30, n_test=30)\n",
    "class_1 = data.x_train[data.y_train[:, 0] == 1.0]\n",
    "class_2 = data.x_train[data.y_train[:, 1] == 1.0]\n",
    "class_3 = data.x_train[data.y_train[:, 2] == 1.0]"
   ]
  },
  {
   "cell_type": "code",
   "execution_count": 3,
   "id": "2cdc2b4e-2309-4137-bb72-05da8b4b2f19",
   "metadata": {},
   "outputs": [
    {
     "data": {
      "text/plain": [
       "<matplotlib.collections.PathCollection at 0x12bbfb4c0>"
      ]
     },
     "execution_count": 3,
     "metadata": {},
     "output_type": "execute_result"
    },
    {
     "data": {
      "image/png": "[encoded data removed]",
      "text/plain": [
       "<Figure size 432x288 with 1 Axes>"
      ]
     },
     "metadata": {
      "needs_background": "light"
     },
     "output_type": "display_data"
    }
   ],
   "source": [
    "plt.scatter(class_1[:, 0], class_1[:, 1], marker=\"^\")\n",
    "plt.scatter(class_2[:, 0], class_2[:, 1], marker=\"o\")\n",
    "plt.scatter(class_3[:, 0], class_3[:, 1], marker=\"x\")"
   ]
  },
  {
   "cell_type": "code",
   "execution_count": 11,
   "id": "989cc55b-fa4d-44c4-89f5-75a3b4c60b9a",
   "metadata": {
    "tags": []
   },
   "outputs": [
    {
     "name": "stdout",
     "output_type": "stream",
     "text": [
      "Ws: [(10, 3), (3, 11)]\n",
      "S: [[0.07666891 0.06518401 0.85814709]]\n",
      "D: [ 0.07666891 -0.93481599  0.85814709]\n",
      "S: [[1.04136105e-02 9.89167576e-01 4.18813531e-04]]\n",
      "D: [-9.89586389e-01  9.89167576e-01  4.18813531e-04]\n",
      "S: [[0.32480461 0.47239735 0.20279804]]\n",
      "D: [-0.67519539  0.47239735  0.20279804]\n",
      "S: [[1.76528561e-02 9.82227779e-01 1.19364634e-04]]\n",
      "D: [ 0.01765286  0.98222778 -0.99988064]\n",
      "S: [[0.23160735 0.69069052 0.07770212]]\n",
      "D: [ 0.23160735  0.69069052 -0.92229788]\n",
      "S: [[0.11769454 0.16767037 0.7146351 ]]\n",
      "D: [ 0.11769454  0.16767037 -0.2853649 ]\n",
      "S: [[0.08414513 0.11956608 0.79628879]]\n",
      "D: [ 0.08414513  0.11956608 -0.20371121]\n",
      "S: [[0.27433876 0.305014   0.42064725]]\n",
      "D: [-0.72566124  0.305014    0.42064725]\n",
      "S: [[2.49597725e-03 9.97391810e-01 1.12212427e-04]]\n",
      "D: [ 0.00249598 -0.00260819  0.00011221]\n",
      "S: [[0.36595588 0.32357883 0.31046529]]\n",
      "D: [-0.63404412  0.32357883  0.31046529]\n",
      "S: [[0.05472683 0.89708153 0.04819164]]\n",
      "D: [-0.94527317  0.89708153  0.04819164]\n",
      "S: [[9.50695484e-01 4.90574454e-02 2.47070255e-04]]\n",
      "D: [ 9.50695484e-01 -9.50942555e-01  2.47070255e-04]\n",
      "S: [[0.19652514 0.73203679 0.07143807]]\n",
      "D: [-0.80347486  0.73203679  0.07143807]\n",
      "S: [[0.20226513 0.65017194 0.14756292]]\n",
      "D: [-0.79773487  0.65017194  0.14756292]\n",
      "S: [[1.00895104e-02 9.89877622e-01 3.28678140e-05]]\n",
      "D: [ 1.00895104e-02 -1.01223782e-02  3.28678140e-05]\n",
      "S: [[0.47056914 0.44073528 0.08869559]]\n",
      "D: [-0.52943086  0.44073528  0.08869559]\n",
      "S: [[2.47938710e-02 9.75129298e-01 7.68305780e-05]]\n",
      "D: [ 2.47938710e-02 -2.48707015e-02  7.68305780e-05]\n",
      "S: [[4.31631210e-02 9.56204044e-01 6.32835049e-04]]\n",
      "D: [ 0.04316312 -0.04379596  0.00063284]\n",
      "S: [[0.54691554 0.36487781 0.08820665]]\n",
      "D: [-0.45308446  0.36487781  0.08820665]\n",
      "S: [[0.15888656 0.04806918 0.79304426]]\n",
      "D: [ 0.15888656  0.04806918 -0.20695574]\n",
      "S: [[0.40461963 0.19781049 0.39756988]]\n",
      "D: [-0.59538037  0.19781049  0.39756988]\n",
      "S: [[6.48515324e-03 9.92883790e-01 6.31056595e-04]]\n",
      "D: [ 0.00648515 -0.00711621  0.00063106]\n",
      "S: [[0.21389913 0.68961131 0.09648955]]\n",
      "D: [-0.78610087  0.68961131  0.09648955]\n",
      "S: [[0.39961448 0.02189163 0.5784939 ]]\n",
      "D: [ 0.39961448  0.02189163 -0.4215061 ]\n",
      "S: [[9.01702309e-01 9.78122519e-02 4.85438619e-04]]\n",
      "D: [ 9.01702309e-01 -9.02187748e-01  4.85438619e-04]\n",
      "S: [[0.0517933  0.06126109 0.88694562]]\n",
      "D: [ 0.0517933   0.06126109 -0.11305438]\n",
      "S: [[0.01268429 0.98576627 0.00154944]]\n",
      "D: [-0.98731571  0.98576627  0.00154944]\n",
      "S: [[0.59093527 0.18575809 0.22330664]]\n",
      "D: [-0.40906473  0.18575809  0.22330664]\n",
      "S: [[2.13779301e-04 9.99785306e-01 9.14600259e-07]]\n",
      "D: [ 2.13779301e-04 -2.14693901e-04  9.14600259e-07]\n",
      "converged after 28 batches\n"
     ]
    },
    {
     "data": {
      "image/png": "[encoded data removed]",
      "text/plain": [
       "<Figure size 432x288 with 1 Axes>"
      ]
     },
     "metadata": {
      "needs_background": "light"
     },
     "output_type": "display_data"
    }
   ],
   "source": [
    "model = NeuralNetwork(\n",
    "    hidden_units=[10], batch_size=1, learning_rate=0.1, max_iterations=1000\n",
    ")\n",
    "model.fit(data.x_train, data.y_train)\n",
    "\n",
    "minx = data.x_train[:, 0].min() - 1\n",
    "maxx = data.x_train[:, 0].max() + 1\n",
    "miny = data.x_train[:, 1].min() - 1\n",
    "maxy = data.x_train[:, 1].max() + 1\n",
    "xrange = np.arange(minx, maxx, 0.1)\n",
    "yrange = np.arange(miny, maxy, 0.1)\n",
    "xx, yy = np.meshgrid(xrange, yrange)  # type: ignore\n",
    "xx_flat = xx.flatten()\n",
    "yy_flat = yy.flatten()\n",
    "xx_flat = xx_flat.reshape((len(xx_flat), 1))\n",
    "yy_flat = yy_flat.reshape((len(yy_flat), 1))\n",
    "grid = np.hstack((xx_flat, yy_flat))\n",
    "predictions = np.argmax(model.predict(grid), axis=1)\n",
    "\n",
    "zz = predictions.reshape(xx.shape)\n",
    "plt.contourf(xx, yy, zz, cmap=\"Paired\")\n",
    "for c in range(3):\n",
    "    row_ix = np.where(data.y_train[:, c] == 1.0)\n",
    "    plt.scatter(data.x_train[row_ix, 0], data.x_train[row_ix, 1], cmap=\"Paired\")"
   ]
  }
 ],
 "metadata": {
  "kernelspec": {
   "display_name": "Python 3 (ipykernel)",
   "language": "python",
   "name": "python3"
  },
  "language_info": {
   "codemirror_mode": {
    "name": "ipython",
    "version": 3
   },
   "file_extension": ".py",
   "mimetype": "text/x-python",
   "name": "python",
   "nbconvert_exporter": "python",
   "pygments_lexer": "ipython3",
   "version": "3.9.7"
  }
 },
 "nbformat": 4,
 "nbformat_minor": 5
}
